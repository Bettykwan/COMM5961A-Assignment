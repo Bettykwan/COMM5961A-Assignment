{
 "cells": [
  {
   "cell_type": "code",
   "execution_count": 53,
   "id": "a6367f3c",
   "metadata": {},
   "outputs": [
    {
     "name": "stdout",
     "output_type": "stream",
     "text": [
      "Enter hours of Pythonlearning spent in Week1:0\n",
      "Enter hours of running spent in Week1:2\n",
      "Enter hours of reading spent in Week1:1\n",
      "Week1's average learning hours:1.0\n",
      "Enter hours of Pythonlearning spent in Week2:5\n",
      "Enter hours of running spent in Week2:2\n",
      "Enter hours of reading spent in Week2:2\n",
      "Week2's average learning hours:3.0\n",
      "Enter hours of Pythonlearning spent in Week3:7\n",
      "Enter hours of running spent in Week3:2\n",
      "Enter hours of reading spent in Week3:0\n",
      "Week3's average learning hours:3.0\n",
      "Enter hours of Pythonlearning spent in Week4:10\n",
      "Enter hours of running spent in Week4:1\n",
      "Enter hours of reading spent in Week4:1\n",
      "Week4's average learning hours:4.0\n"
     ]
    }
   ],
   "source": [
    "week_in_month = ['Week1','Week2','Week3','Week4']\n",
    "for i in week_in_month:\n",
    "    Pythonlearning = input('Enter hours of Pythonlearning spent in ' + i + ':')\n",
    "    Running = input('Enter hours of running spent in '  + i + ':')\n",
    "    Reading = input('Enter hours of reading spent in'  + i + ':')\n",
    "    weekly_hours = round(float(Pythonlearning) + float(Running) + float(Reading))/3\n",
    "    hours = dict(hours)\n",
    "    print(i + \"'s average learning hours:\" + str(weekly_hours))"
   ]
  },
  {
   "cell_type": "code",
   "execution_count": 18,
   "id": "2fbdf52a",
   "metadata": {},
   "outputs": [
    {
     "name": "stdout",
     "output_type": "stream",
     "text": [
      "{'Week': 1, 'Pythonlearning': 0, 'Running': 2, 'Reading': 1, 'Average hours': 1}\n",
      "Week : 1\n",
      "Pythonlearning : 0\n",
      "Running : 2\n",
      "Reading : 1\n",
      "Average hours : 1\n",
      "{'Week': 2, 'Pythonlearning': 5, 'Running': 2, 'Reading': 2, 'Average hours': 3}\n",
      "Week : 2\n",
      "Pythonlearning : 5\n",
      "Running : 2\n",
      "Reading : 2\n",
      "Average hours : 3\n",
      "{'Week': 3, 'Pythonlearning': 7, 'Running': 2, 'Reading': 0, 'Average hours': 3}\n",
      "Week : 3\n",
      "Pythonlearning : 7\n",
      "Running : 2\n",
      "Reading : 0\n",
      "Average hours : 3\n",
      "{'Week': 4, 'Pythonlearning': 10, 'Running': 1, 'Reading': 1, 'Average hours': 4}\n",
      "Week : 4\n",
      "Pythonlearning : 10\n",
      "Running : 1\n",
      "Reading : 1\n",
      "Average hours : 4\n"
     ]
    }
   ],
   "source": [
    "task1 = {'Week':1,'Pythonlearning':0,'Running':2,'Reading':1,'Average hours':1}\n",
    "task2 = {'Week':2,'Pythonlearning':5,'Running':2,'Reading':2,'Average hours':3}\n",
    "task3 = {'Week':3,'Pythonlearning':7,'Running':2,'Reading':0,'Average hours':3}\n",
    "task4 = {'Week':4,'Pythonlearning':10,'Running':1,'Reading':1,'Average hours':4}\n",
    "tasks = []\n",
    "tasks.append(task1)\n",
    "tasks.append(task2)\n",
    "tasks.append(task3)\n",
    "tasks.append(task4)\n",
    "key = 0\n",
    "for i in tasks:\n",
    "    print(i)\n",
    "    for key in i:\n",
    "        print(key,':',i[key])"
   ]
  },
  {
   "cell_type": "code",
   "execution_count": 19,
   "id": "46120864",
   "metadata": {},
   "outputs": [
    {
     "data": {
      "text/html": [
       "<div>\n",
       "<style scoped>\n",
       "    .dataframe tbody tr th:only-of-type {\n",
       "        vertical-align: middle;\n",
       "    }\n",
       "\n",
       "    .dataframe tbody tr th {\n",
       "        vertical-align: top;\n",
       "    }\n",
       "\n",
       "    .dataframe thead th {\n",
       "        text-align: right;\n",
       "    }\n",
       "</style>\n",
       "<table border=\"1\" class=\"dataframe\">\n",
       "  <thead>\n",
       "    <tr style=\"text-align: right;\">\n",
       "      <th></th>\n",
       "      <th>Week</th>\n",
       "      <th>Pythonlearning</th>\n",
       "      <th>Running</th>\n",
       "      <th>Reading</th>\n",
       "      <th>Average hours</th>\n",
       "    </tr>\n",
       "  </thead>\n",
       "  <tbody>\n",
       "    <tr>\n",
       "      <th>0</th>\n",
       "      <td>1</td>\n",
       "      <td>0</td>\n",
       "      <td>2</td>\n",
       "      <td>1</td>\n",
       "      <td>1</td>\n",
       "    </tr>\n",
       "    <tr>\n",
       "      <th>1</th>\n",
       "      <td>2</td>\n",
       "      <td>5</td>\n",
       "      <td>2</td>\n",
       "      <td>2</td>\n",
       "      <td>3</td>\n",
       "    </tr>\n",
       "    <tr>\n",
       "      <th>2</th>\n",
       "      <td>3</td>\n",
       "      <td>7</td>\n",
       "      <td>2</td>\n",
       "      <td>0</td>\n",
       "      <td>3</td>\n",
       "    </tr>\n",
       "    <tr>\n",
       "      <th>3</th>\n",
       "      <td>4</td>\n",
       "      <td>10</td>\n",
       "      <td>1</td>\n",
       "      <td>1</td>\n",
       "      <td>4</td>\n",
       "    </tr>\n",
       "  </tbody>\n",
       "</table>\n",
       "</div>"
      ],
      "text/plain": [
       "   Week  Pythonlearning  Running  Reading  Average hours\n",
       "0     1               0        2        1              1\n",
       "1     2               5        2        2              3\n",
       "2     3               7        2        0              3\n",
       "3     4              10        1        1              4"
      ]
     },
     "execution_count": 19,
     "metadata": {},
     "output_type": "execute_result"
    }
   ],
   "source": [
    "import pandas as pd\n",
    "df = pd.DataFrame(tasks)\n",
    "df\n",
    "df.to_csv('KTM_Weeks.csv',mode='w',index=False)\n",
    "df"
   ]
  },
  {
   "cell_type": "code",
   "execution_count": 20,
   "id": "b5359501",
   "metadata": {},
   "outputs": [
    {
     "data": {
      "text/html": [
       "<div>\n",
       "<style scoped>\n",
       "    .dataframe tbody tr th:only-of-type {\n",
       "        vertical-align: middle;\n",
       "    }\n",
       "\n",
       "    .dataframe tbody tr th {\n",
       "        vertical-align: top;\n",
       "    }\n",
       "\n",
       "    .dataframe thead th {\n",
       "        text-align: right;\n",
       "    }\n",
       "</style>\n",
       "<table border=\"1\" class=\"dataframe\">\n",
       "  <thead>\n",
       "    <tr style=\"text-align: right;\">\n",
       "      <th></th>\n",
       "      <th>Week</th>\n",
       "      <th>Pythonlearning</th>\n",
       "      <th>Running</th>\n",
       "      <th>Reading</th>\n",
       "      <th>Average hours</th>\n",
       "    </tr>\n",
       "  </thead>\n",
       "  <tbody>\n",
       "    <tr>\n",
       "      <th>0</th>\n",
       "      <td>1</td>\n",
       "      <td>0</td>\n",
       "      <td>2</td>\n",
       "      <td>1</td>\n",
       "      <td>1</td>\n",
       "    </tr>\n",
       "    <tr>\n",
       "      <th>1</th>\n",
       "      <td>2</td>\n",
       "      <td>5</td>\n",
       "      <td>2</td>\n",
       "      <td>2</td>\n",
       "      <td>3</td>\n",
       "    </tr>\n",
       "    <tr>\n",
       "      <th>2</th>\n",
       "      <td>3</td>\n",
       "      <td>7</td>\n",
       "      <td>2</td>\n",
       "      <td>0</td>\n",
       "      <td>3</td>\n",
       "    </tr>\n",
       "    <tr>\n",
       "      <th>3</th>\n",
       "      <td>4</td>\n",
       "      <td>10</td>\n",
       "      <td>1</td>\n",
       "      <td>1</td>\n",
       "      <td>4</td>\n",
       "    </tr>\n",
       "  </tbody>\n",
       "</table>\n",
       "</div>"
      ],
      "text/plain": [
       "   Week  Pythonlearning  Running  Reading  Average hours\n",
       "0     1               0        2        1              1\n",
       "1     2               5        2        2              3\n",
       "2     3               7        2        0              3\n",
       "3     4              10        1        1              4"
      ]
     },
     "execution_count": 20,
     "metadata": {},
     "output_type": "execute_result"
    }
   ],
   "source": [
    "import pandas as pd\n",
    "df = pd.read_csv(\"KTM_Weeks.csv\") \n",
    "df "
   ]
  },
  {
   "cell_type": "code",
   "execution_count": 25,
   "id": "e86822b5",
   "metadata": {},
   "outputs": [
    {
     "data": {
      "image/png": "[encoded data removed]",
      "text/plain": [
       "<Figure size 576x360 with 1 Axes>"
      ]
     },
     "metadata": {
      "needs_background": "light"
     },
     "output_type": "display_data"
    }
   ],
   "source": [
    "import csv\n",
    "from matplotlib import pyplot as plt\n",
    "import matplotlib.dates as mdates\n",
    "\n",
    "with open('KTM_Weeks.csv') as csvfile:\n",
    "    reader = csv.reader(csvfile)\n",
    "    header_row = next(reader)\n",
    "\n",
    "    Week = []\n",
    "    Pythonlearning = []\n",
    "    Running = []\n",
    "    Reading = []\n",
    "    Average_hours = []\n",
    "    \n",
    "    for row in reader: \n",
    "        Week.append(int(row[0]))\n",
    "        Pythonlearning.append(int(row[1]))\n",
    "        Running.append(int(row[2]))\n",
    "        Reading.append(int(row[3]))\n",
    "        Average_hours.append(int(row[4]))\n",
    "        \n",
    "fig = plt.figure(figsize = (8,5))\n",
    "plt.plot(Week,Pythonlearning,marker='s',color='purple')\n",
    "plt.plot(Week,Running,marker='s',color='green')\n",
    "plt.plot(Week,Reading,marker='s',color='orange')\n",
    "plt.plot(Week,Average_hours,marker='s',color='black',linestyle='--')\n",
    "plt.legend(['Pythonlearning', 'Running','Reading','Average_hours']) \n",
    "\n",
    "plt.xlabel('Week',fontsize = 12)\n",
    "plt.ylabel('Hours spent',fontsize = 12)\n",
    "plt.title('Learning progress',fontsize = 18)\n",
    "\n",
    "plt.gca().xaxis.set_major_locator(mdates.DayLocator())\n",
    "plt.tick_params(axis='both',which='major',labelsize=10)\n",
    "plt.show()"
   ]
  }
 ],
 "metadata": {
  "kernelspec": {
   "display_name": "Python 3",
   "language": "python",
   "name": "python3"
  },
  "language_info": {
   "codemirror_mode": {
    "name": "ipython",
    "version": 3
   },
   "file_extension": ".py",
   "mimetype": "text/x-python",
   "name": "python",
   "nbconvert_exporter": "python",
   "pygments_lexer": "ipython3",
   "version": "3.8.8"
  }
 },
 "nbformat": 4,
 "nbformat_minor": 5
}
